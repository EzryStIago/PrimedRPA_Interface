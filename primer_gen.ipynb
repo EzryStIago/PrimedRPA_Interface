{
 "cells": [
  {
   "cell_type": "code",
   "execution_count": 4,
   "id": "398f35da",
   "metadata": {},
   "outputs": [
    {
     "name": "stdout",
     "output_type": "stream",
     "text": [
      "Collecting git+git://github.com/MatthewHiggins2017/bioconda-PrimedRPA.git\n",
      "  Cloning git://github.com/MatthewHiggins2017/bioconda-PrimedRPA.git to /tmp/pip-req-build-id9sah8g\n",
      "  Running command git clone -q git://github.com/MatthewHiggins2017/bioconda-PrimedRPA.git /tmp/pip-req-build-id9sah8g\n",
      "Building wheels for collected packages: primedrpa\n",
      "  Building wheel for primedrpa (setup.py) ... \u001b[?25ldone\n",
      "\u001b[?25h  Created wheel for primedrpa: filename=primedrpa-1.0.0-py3-none-any.whl size=23274 sha256=d047175cdf7c031cb6982cba5ff670524bd36f97c0c1228dfc3ce64a57ccc005\n",
      "  Stored in directory: /tmp/pip-ephem-wheel-cache-ckznf6x8/wheels/b6/53/0f/927201bb085284299643fcaea31fe0aaf2ec29c3cd083d6982\n",
      "Successfully built primedrpa\n",
      "Installing collected packages: primedrpa\n",
      "Successfully installed primedrpa-1.0.0\n",
      "\u001b[33mWARNING: You are using pip version 21.1.3; however, version 21.2.2 is available.\n",
      "You should consider upgrading via the '/home/ezry/miniconda3/bin/python -m pip install --upgrade pip' command.\u001b[0m\n",
      "Note: you may need to restart the kernel to use updated packages.\n"
     ]
    }
   ],
   "source": [
    "pip install git+git://github.com/MatthewHiggins2017/bioconda-PrimedRPA.git"
   ]
  },
  {
   "cell_type": "code",
   "execution_count": 5,
   "id": "5c0b3ec3",
   "metadata": {},
   "outputs": [
    {
     "name": "stdout",
     "output_type": "stream",
     "text": [
      "\n",
      "\n",
      "\n",
      "-------------------------------------------\n",
      "----------------PrimedRPA------------------\n",
      "-----Finding RPA Primer and Probe Sets-----\n",
      "-------------Higgins M et al.--------------\n",
      "-------------------------------------------\n",
      "\n",
      "\n",
      "Generating Alignment Summary\n",
      "Generating Primer/Probe Binding Site DataFrame\n",
      "Identifying Valid Primer-Probe Combinations\n",
      "PrimedRPA Complete\n",
      "If helpful, please cite:\n",
      "\n",
      "Higgins M et al. Submitted. 2018\n",
      "DOI: 10.1093/bioinformatics/bty701\n"
     ]
    }
   ],
   "source": [
    "!PrimedRPA PrimedRPA_Parameters.txt"
   ]
  },
  {
   "cell_type": "code",
   "execution_count": 2,
   "id": "5e501077",
   "metadata": {},
   "outputs": [
    {
     "name": "stdout",
     "output_type": "stream",
     "text": [
      "\u001b[33mWARNING: Skipping primedrpa as it is not installed.\u001b[0m\r\n"
     ]
    }
   ],
   "source": []
  },
  {
   "cell_type": "code",
   "execution_count": null,
   "id": "fb96b25e",
   "metadata": {},
   "outputs": [],
   "source": []
  }
 ],
 "metadata": {
  "kernelspec": {
   "display_name": "Python 3",
   "language": "python",
   "name": "python3"
  },
  "language_info": {
   "codemirror_mode": {
    "name": "ipython",
    "version": 3
   },
   "file_extension": ".py",
   "mimetype": "text/x-python",
   "name": "python",
   "nbconvert_exporter": "python",
   "pygments_lexer": "ipython3",
   "version": "3.8.5"
  }
 },
 "nbformat": 4,
 "nbformat_minor": 5
}
